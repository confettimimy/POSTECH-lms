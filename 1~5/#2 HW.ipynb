{
 "cells": [
  {
   "cell_type": "markdown",
   "metadata": {},
   "source": [
    "### 문제 4"
   ]
  },
  {
   "cell_type": "code",
   "execution_count": 15,
   "metadata": {},
   "outputs": [
    {
     "name": "stdout",
     "output_type": "stream",
     "text": [
      "Enter two integers: 8 5\n",
      "8 + 5 = 13\n",
      "8 - 5 = 3\n",
      "8 * 5 = 40\n",
      "8 / 5 = 1\n",
      "8 % 5 = 3\n"
     ]
    }
   ],
   "source": [
    "a, b = input('Enter two integers: ').split()\n",
    "a = int(a)\n",
    "b = int(b)\n",
    "\n",
    "print(\"%d + %d = %d\" %(a,b,(a+b)))\n",
    "print(\"%d - %d = %d\" %(a,b,(a-b)))\n",
    "print(\"%d * %d = %d\" %(a,b,(a*b)))\n",
    "print(\"%d / %d = %d\" %(a,b,(a/b)))\n",
    "print(\"%d %% %d = %d\" %(a,b,(a%b)))"
   ]
  },
  {
   "cell_type": "markdown",
   "metadata": {},
   "source": [
    "### 문제 5"
   ]
  },
  {
   "cell_type": "code",
   "execution_count": 24,
   "metadata": {},
   "outputs": [
    {
     "name": "stdout",
     "output_type": "stream",
     "text": [
      "Enter two integers: 70 91\n",
      "The sum of 70 and 91 is 161\n",
      "The average of numbers is 80.5\n"
     ]
    }
   ],
   "source": [
    "a, b = input('Enter two integers: ').split()\n",
    "a = int(a)\n",
    "b = int(b)\n",
    "\n",
    "sum = a+b\n",
    "print(\"The sum of %d and %d is %d\" %(a, b, sum))\n",
    "print(\"The average of numbers is %.1f\" %(sum/2.0))"
   ]
  },
  {
   "cell_type": "markdown",
   "metadata": {},
   "source": [
    "### 문제 6"
   ]
  },
  {
   "cell_type": "code",
   "execution_count": 56,
   "metadata": {},
   "outputs": [
    {
     "name": "stdout",
     "output_type": "stream",
     "text": [
      "날짜(연/월/일)입력: 2020/06/23\n",
      "입력한 날짜의 10년 후는 2020년 6월 23일\n"
     ]
    }
   ],
   "source": [
    "date = input('날짜(연/월/일)입력: ')\n",
    "dateList = date.split(\"/\")\n",
    "\n",
    "year, month, day = dateList\n",
    "year = int(year)\n",
    "month = int(month)\n",
    "day = int(day)\n",
    "\n",
    "print(\"입력한 날짜의 10년 후는 %d년 %d월 %d일\" %(year, month, day))"
   ]
  },
  {
   "cell_type": "markdown",
   "metadata": {},
   "source": [
    "# 과제실습2\n",
    "## 1. 조건문(if)"
   ]
  },
  {
   "cell_type": "markdown",
   "metadata": {},
   "source": [
    "### 문제1)"
   ]
  },
  {
   "cell_type": "code",
   "execution_count": 2,
   "metadata": {},
   "outputs": [
    {
     "name": "stdout",
     "output_type": "stream",
     "text": [
      "Enter a number: 14\n",
      "14 is Even number\n"
     ]
    }
   ],
   "source": [
    "number = int(input(\"Enter a number: \"))\n",
    "\n",
    "if number % 2 == 0:\n",
    "    print(\"%d is Even number\" %number)\n",
    "else:\n",
    "    print(\"%d is Odd number\" %number)"
   ]
  },
  {
   "cell_type": "markdown",
   "metadata": {},
   "source": [
    "### 문제2)"
   ]
  },
  {
   "cell_type": "code",
   "execution_count": 5,
   "metadata": {},
   "outputs": [
    {
     "name": "stdout",
     "output_type": "stream",
     "text": [
      "Enter your midterm score: 77\n",
      "Enter your final score: 56\n",
      "Average: 66.5\n",
      "Grade: D\n"
     ]
    }
   ],
   "source": [
    "mid_score = int(input(\"Enter your midterm score: \"))\n",
    "final_score = int(input(\"Enter your final score: \"))\n",
    "\n",
    "average = (mid_score+final_score)/2.0\n",
    "\n",
    "\n",
    "if average>=90:\n",
    "    grade = 'A'\n",
    "elif 80<=average<90:\n",
    "    grade = 'B'\n",
    "elif 70<=average<80:\n",
    "    grade = 'C'\n",
    "elif 60<=average<70:\n",
    "    grade = 'D'\n",
    "else:\n",
    "    grade = 'F'\n",
    "\n",
    "\n",
    "print(\"Average: %.1f\" %average)\n",
    "print(\"Grade: %s\" %grade)"
   ]
  },
  {
   "cell_type": "markdown",
   "metadata": {},
   "source": [
    "### 문제3)"
   ]
  },
  {
   "cell_type": "code",
   "execution_count": 6,
   "metadata": {},
   "outputs": [
    {
     "name": "stdout",
     "output_type": "stream",
     "text": [
      "영어 점수 입력:80\n",
      "수학 점수 입력:80\n",
      "합격\n"
     ]
    }
   ],
   "source": [
    "eng_score = int(input(\"영어 점수 입력:\"))\n",
    "math_score = int(input(\"수학 점수 입력:\"))\n",
    "\n",
    "if eng_score+math_score >= 110:\n",
    "    result = \"합격\"\n",
    "else:\n",
    "    if eng_score+math_score < 110:\n",
    "        result = \"불합격: 총합 점수 부족\"\n",
    "    if eng_score<40:\n",
    "        result = \"불합격: 영어 점수 부족\"\n",
    "    if math_score<40:\n",
    "        result = \"불합격: 수학 점수 부족\"\n",
    "    \n",
    "    \n",
    "print(\"%s\" %result)"
   ]
  },
  {
   "cell_type": "markdown",
   "metadata": {},
   "source": [
    "### 문제4)"
   ]
  },
  {
   "cell_type": "code",
   "execution_count": 57,
   "metadata": {},
   "outputs": [
    {
     "name": "stdout",
     "output_type": "stream",
     "text": [
      "세 개의 수를 입력하시오: 30 22 50\n",
      "가장 큰 수는 50입니다.\n"
     ]
    }
   ],
   "source": [
    "num_List = []\n",
    "numbers = input(\"세 개의 수를 입력하시오: \")\n",
    "num_List = numbers.split()\n",
    "\n",
    "# 모두 정수숫자로 변환\n",
    "num_List = list(map(int, num_List))\n",
    "\n",
    "\n",
    "maxN = num_List[0]\n",
    "for i in range(0,len(num_List)):\n",
    "    if maxN < num_List[i]:\n",
    "        maxN = num_List[i]\n",
    "\n",
    "\n",
    "print(\"가장 큰 수는 %d입니다.\" %maxN)"
   ]
  },
  {
   "cell_type": "markdown",
   "metadata": {},
   "source": [
    "## 2. 반복문"
   ]
  },
  {
   "cell_type": "markdown",
   "metadata": {},
   "source": [
    "### 문제1)"
   ]
  },
  {
   "cell_type": "code",
   "execution_count": 10,
   "metadata": {},
   "outputs": [
    {
     "name": "stdout",
     "output_type": "stream",
     "text": [
      "P\n",
      "y\n",
      "t\n",
      "h\n",
      "o\n",
      "n\n"
     ]
    }
   ],
   "source": [
    "word = 'Python'\n",
    "\n",
    "i=0\n",
    "while(i<len(word)):\n",
    "    print(\"%s\" %word[i])\n",
    "    i=i+1"
   ]
  },
  {
   "cell_type": "code",
   "execution_count": 16,
   "metadata": {},
   "outputs": [
    {
     "name": "stdout",
     "output_type": "stream",
     "text": [
      "P\n",
      "y\n",
      "t\n",
      "h\n",
      "o\n",
      "n\n"
     ]
    }
   ],
   "source": [
    "word = 'Python'\n",
    "\n",
    "for i in word:\n",
    "    print(i)\n",
    "    \n",
    "    \n",
    "# for i in range(0,len(word)):\n",
    "#     print(\"%s\" %word[i])"
   ]
  },
  {
   "cell_type": "markdown",
   "metadata": {},
   "source": [
    "### 문제2)"
   ]
  },
  {
   "cell_type": "code",
   "execution_count": 10,
   "metadata": {},
   "outputs": [
    {
     "name": "stdout",
     "output_type": "stream",
     "text": [
      "10, 9, 8, 7, 6, 5, 4, 3, 2, 1, Happy new year!!\n"
     ]
    }
   ],
   "source": [
    "num = 10\n",
    "\n",
    "while (num>0):\n",
    "    print(num, end=', ')\n",
    "    num=num-1\n",
    "\n",
    "print(\"Happy new year!!\")"
   ]
  },
  {
   "cell_type": "markdown",
   "metadata": {},
   "source": [
    "### 문제3)"
   ]
  },
  {
   "cell_type": "code",
   "execution_count": 12,
   "metadata": {},
   "outputs": [
    {
     "name": "stdout",
     "output_type": "stream",
     "text": [
      "Enter two integers: 5 10\n",
      "The sum from 5 to 10 is 45\n"
     ]
    }
   ],
   "source": [
    "a, b = input(\"Enter two integers: \").split()\n",
    "a = int(a)\n",
    "b = int(b)\n",
    "\n",
    "sum=0\n",
    "for i in range(a,b+1):\n",
    "    sum = sum + i\n",
    "\n",
    "print(\"The sum from %d to %d is %d\" %(a,b,sum))"
   ]
  },
  {
   "cell_type": "markdown",
   "metadata": {},
   "source": [
    "### 문제4)"
   ]
  },
  {
   "cell_type": "code",
   "execution_count": 15,
   "metadata": {},
   "outputs": [
    {
     "name": "stdout",
     "output_type": "stream",
     "text": [
      "문자a의 개수: 3\n"
     ]
    }
   ],
   "source": [
    "word = 'banana'\n",
    "\n",
    "a_num=0\n",
    "for x in word:\n",
    "    if x=='a':\n",
    "        a_num=a_num+1\n",
    "        \n",
    "print(\"문자a의 개수: %d\" %a_num)"
   ]
  },
  {
   "cell_type": "markdown",
   "metadata": {},
   "source": [
    "### 문제5)"
   ]
  },
  {
   "cell_type": "code",
   "execution_count": 26,
   "metadata": {},
   "outputs": [
    {
     "name": "stdout",
     "output_type": "stream",
     "text": [
      "0 1 2 3 4 5 6 7 8 9 \n",
      "0 5 10 15 20 25 30 35 40 45 50 \n",
      "10 9 8 7 6 5 4 3 2 1 "
     ]
    }
   ],
   "source": [
    "for x in range(0,10):\n",
    "    print(x, end=' ')\n",
    "\n",
    "print(\"\")\n",
    "\n",
    "for y in range(0,11):\n",
    "    print(y*5, end=' ')\n",
    "\n",
    "print(\"\")\n",
    "\n",
    "for z in range(1,11):\n",
    "    print(11-z, end=' ')"
   ]
  },
  {
   "cell_type": "markdown",
   "metadata": {},
   "source": [
    "### 문제6)"
   ]
  },
  {
   "cell_type": "code",
   "execution_count": 27,
   "metadata": {},
   "outputs": [
    {
     "name": "stdout",
     "output_type": "stream",
     "text": [
      "red\n",
      "green\n",
      "blue\n"
     ]
    }
   ],
   "source": [
    "colors = [\"red\", \"green\", \"blue\"]\n",
    "\n",
    "for i in colors:\n",
    "    print(i)"
   ]
  },
  {
   "cell_type": "markdown",
   "metadata": {},
   "source": [
    "### 문제7)"
   ]
  },
  {
   "cell_type": "code",
   "execution_count": 28,
   "metadata": {},
   "outputs": [
    {
     "name": "stdout",
     "output_type": "stream",
     "text": [
      "4 6 8 10 12 "
     ]
    }
   ],
   "source": [
    "a = [1, 3, 4, 5, 6, 7, 8, 9, 10, 11, 12, 13]\n",
    "\n",
    "for i in a:\n",
    "    if i%2==0:\n",
    "        print(i, end=' ')"
   ]
  },
  {
   "cell_type": "markdown",
   "metadata": {},
   "source": [
    "### 문제8)"
   ]
  },
  {
   "cell_type": "code",
   "execution_count": 31,
   "metadata": {},
   "outputs": [
    {
     "name": "stdout",
     "output_type": "stream",
     "text": [
      "출력하고 싶은 단을 입력하세요:7\n",
      "7 * 1 = 7\n",
      "7 * 2 = 14\n",
      "7 * 3 = 21\n",
      "7 * 4 = 28\n",
      "7 * 5 = 35\n",
      "7 * 6 = 42\n",
      "7 * 7 = 49\n",
      "7 * 8 = 56\n",
      "7 * 9 = 63\n"
     ]
    }
   ],
   "source": [
    "dan = int(input(\"출력하고 싶은 단을 입력하세요:\"))\n",
    "\n",
    "for i in range(1,10):\n",
    "    print(\"%d * %d = %d\" %(dan, i, dan*i))"
   ]
  },
  {
   "cell_type": "markdown",
   "metadata": {},
   "source": [
    "### 문제9)"
   ]
  },
  {
   "cell_type": "code",
   "execution_count": 6,
   "metadata": {},
   "outputs": [
    {
     "name": "stdout",
     "output_type": "stream",
     "text": [
      "==2단==\n",
      "2*1= 2\n",
      "2*2= 4\n",
      "2*3= 6\n",
      "2*4= 8\n",
      "2*5= 10\n",
      "2*6= 12\n",
      "2*7= 14\n",
      "2*8= 16\n",
      "2*9= 18\n",
      "==3단==\n",
      "3*1= 3\n",
      "3*2= 6\n",
      "3*3= 9\n",
      "3*4= 12\n",
      "3*5= 15\n",
      "3*6= 18\n",
      "3*7= 21\n",
      "3*8= 24\n",
      "3*9= 27\n",
      "==4단==\n",
      "4*1= 4\n",
      "4*2= 8\n",
      "4*3= 12\n",
      "4*4= 16\n",
      "4*5= 20\n",
      "4*6= 24\n",
      "4*7= 28\n",
      "4*8= 32\n",
      "4*9= 36\n",
      "==5단==\n",
      "5*1= 5\n",
      "5*2= 10\n",
      "5*3= 15\n",
      "5*4= 20\n",
      "5*5= 25\n",
      "5*6= 30\n",
      "5*7= 35\n",
      "5*8= 40\n",
      "5*9= 45\n",
      "==6단==\n",
      "6*1= 6\n",
      "6*2= 12\n",
      "6*3= 18\n",
      "6*4= 24\n",
      "6*5= 30\n",
      "6*6= 36\n",
      "6*7= 42\n",
      "6*8= 48\n",
      "6*9= 54\n",
      "==7단==\n",
      "7*1= 7\n",
      "7*2= 14\n",
      "7*3= 21\n",
      "7*4= 28\n",
      "7*5= 35\n",
      "7*6= 42\n",
      "7*7= 49\n",
      "7*8= 56\n",
      "7*9= 63\n",
      "==8단==\n",
      "8*1= 8\n",
      "8*2= 16\n",
      "8*3= 24\n",
      "8*4= 32\n",
      "8*5= 40\n",
      "8*6= 48\n",
      "8*7= 56\n",
      "8*8= 64\n",
      "8*9= 72\n",
      "==9단==\n",
      "9*1= 9\n",
      "9*2= 18\n",
      "9*3= 27\n",
      "9*4= 36\n",
      "9*5= 45\n",
      "9*6= 54\n",
      "9*7= 63\n",
      "9*8= 72\n",
      "9*9= 81\n"
     ]
    }
   ],
   "source": [
    "for i in range(2,10):\n",
    "    print(\"==%d단==\" %i)\n",
    "    for j in range(1,10):\n",
    "        print(\"%d*%d= %d\" %(i, j, i*j))"
   ]
  },
  {
   "cell_type": "markdown",
   "metadata": {},
   "source": [
    "### 문제10)"
   ]
  },
  {
   "cell_type": "code",
   "execution_count": 18,
   "metadata": {},
   "outputs": [
    {
     "name": "stdout",
     "output_type": "stream",
     "text": [
      "2*1= 2\t3*1= 3\t4*1= 4\t5*1= 5\t6*1= 6\t7*1= 7\t8*1= 8\t9*1= 9\t\n",
      "2*2= 4\t3*2= 6\t4*2= 8\t5*2=10\t6*2=12\t7*2=14\t8*2=16\t9*2=18\t\n",
      "2*3= 6\t3*3= 9\t4*3=12\t5*3=15\t6*3=18\t7*3=21\t8*3=24\t9*3=27\t\n",
      "2*4= 8\t3*4=12\t4*4=16\t5*4=20\t6*4=24\t7*4=28\t8*4=32\t9*4=36\t\n",
      "2*5=10\t3*5=15\t4*5=20\t5*5=25\t6*5=30\t7*5=35\t8*5=40\t9*5=45\t\n",
      "2*6=12\t3*6=18\t4*6=24\t5*6=30\t6*6=36\t7*6=42\t8*6=48\t9*6=54\t\n",
      "2*7=14\t3*7=21\t4*7=28\t5*7=35\t6*7=42\t7*7=49\t8*7=56\t9*7=63\t\n",
      "2*8=16\t3*8=24\t4*8=32\t5*8=40\t6*8=48\t7*8=56\t8*8=64\t9*8=72\t\n",
      "2*9=18\t3*9=27\t4*9=36\t5*9=45\t6*9=54\t7*9=63\t8*9=72\t9*9=81\t\n"
     ]
    }
   ],
   "source": [
    "for i in range(1,10):\n",
    "    for j in range(2,10):\n",
    "        print(\"%d*%d=%2d\" %(j, i, i*j), end='\\t')\n",
    "    print(\"\")\n"
   ]
  },
  {
   "cell_type": "markdown",
   "metadata": {},
   "source": [
    "### 문제11)"
   ]
  },
  {
   "cell_type": "code",
   "execution_count": 72,
   "metadata": {},
   "outputs": [
    {
     "name": "stdout",
     "output_type": "stream",
     "text": [
      "Input an Integer: 3159\n",
      "★★★\n",
      "★\n",
      "★★★★★\n",
      "★★★★★★★★★"
     ]
    }
   ],
   "source": [
    "integer = input(\"Input an Integer: \")\n",
    "n1=int(integer[0]) #문자열 리스트 요소에 접근\n",
    "n2=int(integer[1])\n",
    "n3=int(integer[2])\n",
    "n4=int(integer[3])\n",
    "\n",
    "for a in range(0,n1):\n",
    "    print(\"★\", end='')\n",
    "print(\"\")\n",
    "for b in range(0,n2):\n",
    "    print(\"★\", end='')\n",
    "print(\"\")\n",
    "for c in range(0,n3):\n",
    "    print(\"★\", end='')\n",
    "print(\"\")\n",
    "for d in range(0,n4):\n",
    "    print(\"★\", end='')\n"
   ]
  },
  {
   "cell_type": "markdown",
   "metadata": {},
   "source": [
    "### 문제12)"
   ]
  },
  {
   "cell_type": "code",
   "execution_count": 69,
   "metadata": {},
   "outputs": [
    {
     "name": "stdout",
     "output_type": "stream",
     "text": [
      "Enter a number:7\n",
      "Enter a number:2\n",
      "Enter a number:9\n",
      "Enter a number:3\n",
      "Enter a number:5\n",
      "Enter a number:done\n",
      "\n",
      "[7.0, 2.0, 9.0, 3.0, 5.0]\n",
      "Average:5.2\n",
      "Maximum:9.0\n",
      "Minimum:2.0\n"
     ]
    }
   ],
   "source": [
    "input_List = []\n",
    "\n",
    "while 1:\n",
    "    answer = input(\"Enter a number:\")\n",
    "    if(answer==\"done\" or answer==\"Done\" or answer==\"DONE\"):\n",
    "        break\n",
    "    input_List.append(answer)\n",
    "# 아직까지는 모두 문자열로 리스트로 저장됨\n",
    "\n",
    "input_List = list(map(float, input_List))\n",
    "# 문자열 리스트 요소들을 모두 숫자로 변환\n",
    "\n",
    "print(\"\")\n",
    "print(input_List)\n",
    "# for r in input_List:\n",
    "#     print(r, end=\", \")\n",
    "# 리스트 요소 나열\n",
    "\n",
    "\n",
    "\n",
    "\n",
    "average = sum(input_List)/len(input_List)\n",
    "print(\"Average:%.1f\" %average)\n",
    "print(\"Maximum:%.1f\" %max(input_List))\n",
    "print(\"Minimum:%.1f\" %min(input_List))"
   ]
  },
  {
   "cell_type": "markdown",
   "metadata": {},
   "source": []
  },
  {
   "cell_type": "code",
   "execution_count": null,
   "metadata": {},
   "outputs": [],
   "source": []
  },
  {
   "cell_type": "code",
   "execution_count": null,
   "metadata": {},
   "outputs": [],
   "source": []
  }
 ],
 "metadata": {
  "kernelspec": {
   "display_name": "Python 3",
   "language": "python",
   "name": "python3"
  },
  "language_info": {
   "codemirror_mode": {
    "name": "ipython",
    "version": 3
   },
   "file_extension": ".py",
   "mimetype": "text/x-python",
   "name": "python",
   "nbconvert_exporter": "python",
   "pygments_lexer": "ipython3",
   "version": "3.7.6"
  }
 },
 "nbformat": 4,
 "nbformat_minor": 4
}
