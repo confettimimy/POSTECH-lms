{
 "cells": [
  {
   "cell_type": "markdown",
   "metadata": {},
   "source": [
    "# 과제실습2"
   ]
  },
  {
   "cell_type": "markdown",
   "metadata": {},
   "source": [
    "## 문제12)"
   ]
  },
  {
   "cell_type": "code",
   "execution_count": 1,
   "metadata": {},
   "outputs": [
    {
     "name": "stdout",
     "output_type": "stream",
     "text": [
      "Enter a number:7\n",
      "Enter a number:2\n",
      "Enter a number:9\n",
      "Enter a number:3\n",
      "Enter a number:5\n",
      "Enter a number:done\n",
      "\n",
      "[7.0, 2.0, 9.0, 3.0, 5.0]\n",
      "Average:5.2\n",
      "Maximum:9.0\n",
      "Minimum:2.0\n"
     ]
    }
   ],
   "source": [
    "input_List = []\n",
    "\n",
    "while 1:\n",
    "    answer = input(\"Enter a number:\")\n",
    "    if(answer==\"done\" or answer==\"Done\" or answer==\"DONE\"):\n",
    "        break\n",
    "    input_List.append(answer)\n",
    "# 아직까지는 모두 문자열로 리스트로 저장됨\n",
    "\n",
    "input_List = list(map(float, input_List))\n",
    "# 문자열 리스트 요소들을 모두 숫자로 변환\n",
    "\n",
    "print(\"\")\n",
    "print(input_List)\n",
    "# for r in input_List:\n",
    "#     print(r, end=\", \")\n",
    "# 리스트 요소 나열\n",
    "\n",
    "\n",
    "\n",
    "\n",
    "average = sum(input_List)/len(input_List)\n",
    "print(\"Average:%.1f\" %average)\n",
    "print(\"Maximum:%.1f\" %max(input_List))\n",
    "print(\"Minimum:%.1f\" %min(input_List))"
   ]
  },
  {
   "cell_type": "markdown",
   "metadata": {},
   "source": [
    "# 과제실습3"
   ]
  },
  {
   "cell_type": "markdown",
   "metadata": {},
   "source": [
    "## 실습1)"
   ]
  },
  {
   "cell_type": "code",
   "execution_count": 4,
   "metadata": {},
   "outputs": [
    {
     "name": "stdout",
     "output_type": "stream",
     "text": [
      "1 2 10 "
     ]
    }
   ],
   "source": [
    "d = {'youn': 1, 'park': 2, 'kim': 10}\n",
    "\n",
    "for value in d.values():\n",
    "    print(value, end=' ')"
   ]
  },
  {
   "cell_type": "markdown",
   "metadata": {},
   "source": [
    "## 실습2)"
   ]
  },
  {
   "cell_type": "code",
   "execution_count": 9,
   "metadata": {},
   "outputs": [
    {
     "name": "stdout",
     "output_type": "stream",
     "text": [
      "five 5\n",
      "four 4\n",
      "one 1\n",
      "three 3\n",
      "two 2\n"
     ]
    }
   ],
   "source": [
    "d = {'one':1, 'two':2, 'three':3, 'four':4, 'five':5}\n",
    "\n",
    "# sorted(d.keys())\n",
    "\n",
    "for key, value in sorted(d.items()):\n",
    "    print(key, value)\n",
    "    "
   ]
  },
  {
   "cell_type": "markdown",
   "metadata": {},
   "source": [
    "## 실습3)"
   ]
  },
  {
   "cell_type": "code",
   "execution_count": 25,
   "metadata": {},
   "outputs": [
    {
     "name": "stdout",
     "output_type": "stream",
     "text": [
      "Enter a sentence:Python is fun!\n",
      "{'P': 1, 'y': 1, 't': 1, 'h': 1, 'o': 1, 'n': 2, ' ': 2, 'i': 1, 's': 1, 'f': 1, 'u': 1, '!': 1}\n"
     ]
    }
   ],
   "source": [
    "str = input(\"Enter a sentence:\")\n",
    "\n",
    "d = {}\n",
    "\n",
    "\n",
    "for n in str:\n",
    "    if n == '!':\n",
    "        d['!']=str.count('!')\n",
    "    elif n == ' ':\n",
    "        d[' ']=str.count(' ')\n",
    "    elif n == 'f':\n",
    "        d['f']=str.count('f')\n",
    "    elif n == 'i':\n",
    "        d['i']=str.count('i')\n",
    "    elif n == 'h':\n",
    "        d['h']=str.count('h')\n",
    "    elif n == 'o':\n",
    "        d['o']=str.count('o')\n",
    "    elif n == 'n':\n",
    "        d['n']=str.count('n')\n",
    "    elif n == 'P':\n",
    "        d['P']=str.count('P')\n",
    "    elif n == 's':\n",
    "        d['s']=str.count('s')\n",
    "    elif n == 'u':\n",
    "        d['u']=str.count('u')\n",
    "    elif n == 't':\n",
    "        d['t']=str.count('t')\n",
    "    elif n == 'y':\n",
    "        d['y']=str.count('y')\n",
    "\n",
    "\n",
    "        \n",
    "print(d)\n",
    "\n"
   ]
  },
  {
   "cell_type": "markdown",
   "metadata": {},
   "source": [
    "# 과제실습4"
   ]
  },
  {
   "cell_type": "markdown",
   "metadata": {},
   "source": [
    "## 실습1)"
   ]
  },
  {
   "cell_type": "code",
   "execution_count": 19,
   "metadata": {},
   "outputs": [
    {
     "name": "stdout",
     "output_type": "stream",
     "text": [
      "first 1\n",
      "line 3\n",
      "second 1\n",
      "third 1\n"
     ]
    }
   ],
   "source": [
    "f = open(\"test.txt\", 'r')\n",
    "\n",
    "\n",
    "\n",
    "data = f.read()\n",
    "s = data.split()\n",
    "d={}\n",
    "\n",
    "for word in s:\n",
    "        count = d.get(word,0)\n",
    "        d[word] = count + 1\n",
    "\n",
    "\n",
    "for j in d:\n",
    "    print(j,d[j])\n",
    "\n",
    "\n",
    "\n",
    "f.close()"
   ]
  },
  {
   "cell_type": "code",
   "execution_count": null,
   "metadata": {},
   "outputs": [],
   "source": []
  },
  {
   "cell_type": "code",
   "execution_count": null,
   "metadata": {},
   "outputs": [],
   "source": []
  }
 ],
 "metadata": {
  "kernelspec": {
   "display_name": "Python 3",
   "language": "python",
   "name": "python3"
  },
  "language_info": {
   "codemirror_mode": {
    "name": "ipython",
    "version": 3
   },
   "file_extension": ".py",
   "mimetype": "text/x-python",
   "name": "python",
   "nbconvert_exporter": "python",
   "pygments_lexer": "ipython3",
   "version": "3.7.6"
  }
 },
 "nbformat": 4,
 "nbformat_minor": 4
}
