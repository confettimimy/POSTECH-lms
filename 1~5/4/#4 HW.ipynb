{
 "cells": [
  {
   "cell_type": "markdown",
   "metadata": {},
   "source": [
    "# 과제실습 4"
   ]
  },
  {
   "cell_type": "markdown",
   "metadata": {},
   "source": [
    "## 실습2)"
   ]
  },
  {
   "cell_type": "code",
   "execution_count": 11,
   "metadata": {},
   "outputs": [
    {
     "name": "stdout",
     "output_type": "stream",
     "text": [
      "Enter a file name:test.txt\n",
      "FIRST LINE\n",
      "\n",
      "SECOND LINE\n",
      "\n",
      "THIRD LINE\n"
     ]
    }
   ],
   "source": [
    "import os\n",
    "\n",
    "filename = input(\"Enter a file name:\")\n",
    "\n",
    "# 파일 있는지 없는지 체크\n",
    "os.path.exists(filename)\n",
    "\n",
    "if os.path.exists(filename)==True:\n",
    "    pass\n",
    "else:\n",
    "    print(\"파일이 존재하지 않는다\")\n",
    "\n",
    "\n",
    "\n",
    "f = open(filename, 'r')\n",
    "line = f.readline()\n",
    "\n",
    "while line:\n",
    "    print('%s' %line.upper())\n",
    "    line = f.readline()\n",
    "\n",
    "\n",
    "f.close()"
   ]
  },
  {
   "cell_type": "markdown",
   "metadata": {},
   "source": [
    "## 실습4)"
   ]
  },
  {
   "cell_type": "code",
   "execution_count": 44,
   "metadata": {},
   "outputs": [
    {
     "name": "stdout",
     "output_type": "stream",
     "text": [
      "201901 89 78\n",
      "\n",
      "201902 76 84\n",
      "\n",
      "201903 67 42\n",
      "\n",
      "201904 66 88\n",
      "\n",
      "201905 98 99\n"
     ]
    }
   ],
   "source": [
    "import os\n",
    "\n",
    "filename = 'score.txt'\n",
    "\n",
    "# 파일 있는지 없는지 체크\n",
    "if os.path.exists(filename)==True:\n",
    "    pass\n",
    "else:\n",
    "    print(\"파일이 존재하지 않는다\")\n",
    "\n",
    "\n",
    "\n",
    "score_sum = 0.0\n",
    "\n",
    "def cal_grade(score):\n",
    "    if score_sum>=90:\n",
    "        grade= 'A'\n",
    "    elif 80<=score_sum<90:\n",
    "        grade = 'B'\n",
    "    elif 70<=score_sum<80:\n",
    "        grade = 'C'\n",
    "    elif 60<=score_sum<70:\n",
    "        grade = 'D'\n",
    "    else:\n",
    "        grade = 'F'\n",
    "    \n",
    "    return grade\n",
    "    \n",
    "    \n",
    "    \n",
    "fr = open(filename, 'r')#읽어올 파일\n",
    "fw = open('report.txt','w') #새로 쓸 파일\n",
    "\n",
    "line = fr.readline()\n",
    "\n",
    "while line: #학생수를 예시의 학생수처럼 고정해서 구현하지 말 것 -이렇게 하면 학생 수가 어떻든 괜찮음.\n",
    "    print('%s' %line) #확인\n",
    "    d = line.split()\n",
    "#     print(d[0], d[1], d[2]) #리스트 요소 확인\n",
    "    fw.write(d[0])\n",
    "    fw.write(\" \")\n",
    "    fw.write(d[1])\n",
    "    fw.write(\" \")\n",
    "    fw.write(d[2])\n",
    "    fw.write(\"   \")\n",
    "    \n",
    "    d[0] = int(d[0])\n",
    "    d[1] = int(d[1])\n",
    "    d[2] = int(d[2])\n",
    "    score_sum = d[1]*0.4 + d[2]*0.6\n",
    "    result = cal_grade(score_sum)\n",
    "    \n",
    "    score_sum = str(score_sum)\n",
    "    fw.write(score_sum) #문자열만 인자로 넣을 수 있음.\n",
    "    fw.write(\"(\")\n",
    "    result = str(result)\n",
    "    fw.write(result)\n",
    "    fw.write(\")\")\n",
    "    fw.write(\"\\n\")\n",
    "    line = fr.readline()\n",
    "\n",
    "fr.close()\n",
    "fw.close()"
   ]
  },
  {
   "cell_type": "markdown",
   "metadata": {},
   "source": [
    "# 함수 과제"
   ]
  },
  {
   "cell_type": "markdown",
   "metadata": {},
   "source": [
    "## 과제1)"
   ]
  },
  {
   "cell_type": "code",
   "execution_count": 52,
   "metadata": {},
   "outputs": [
    {
     "name": "stdout",
     "output_type": "stream",
     "text": [
      "13는 소수입니다.\n",
      "15는 소수가 아닙니다.\n"
     ]
    }
   ],
   "source": [
    "def check_prime(num):\n",
    "    \n",
    "    if num < 2: \n",
    "        return False \n",
    "    for i in range(2, num): \n",
    "        if num % i == 0: \n",
    "            return False \n",
    "        \n",
    "    return True\n",
    "    \n",
    "    \n",
    "    \n",
    "    \n",
    "def main():\n",
    "    a = 13\n",
    "    b = 15\n",
    "    \n",
    "    if check_prime(a):\n",
    "        print(str(a)+'는 소수입니다.')\n",
    "    else:\n",
    "        print(str(a)+'는 소수가 아닙니다.')\n",
    "\n",
    "    if check_prime(b):\n",
    "        print(str(b)+'는 소수입니다.')\n",
    "    else:\n",
    "        print(str(b)+'는 소수가 아닙니다.')\n",
    "main()"
   ]
  },
  {
   "cell_type": "markdown",
   "metadata": {},
   "source": [
    "## 과제2)"
   ]
  },
  {
   "cell_type": "code",
   "execution_count": 84,
   "metadata": {},
   "outputs": [
    {
     "name": "stdout",
     "output_type": "stream",
     "text": [
      "1,234\n",
      "12,345,678\n",
      "12\n"
     ]
    }
   ],
   "source": [
    "def add_comma(val):\n",
    "    \n",
    "    val = format(val, ',')\n",
    "    val = str(val)\n",
    "       \n",
    "    return val\n",
    "    \n",
    "    \n",
    "    \n",
    "def main():\n",
    "    comma_added_1234 = add_comma(1234)\n",
    "    comma_added_12345678 = add_comma(12345678)\n",
    "    comma_added_12 = add_comma(12)\n",
    "    \n",
    "    print(comma_added_1234)  # '1,234'\n",
    "    print(comma_added_12345678)  # '12,345,678'\n",
    "    print(comma_added_12)  # '12'\n",
    "main()"
   ]
  },
  {
   "cell_type": "markdown",
   "metadata": {},
   "source": [
    "## 과제3)"
   ]
  },
  {
   "cell_type": "code",
   "execution_count": 102,
   "metadata": {},
   "outputs": [
    {
     "name": "stdout",
     "output_type": "stream",
     "text": [
      "['There', 'was', 'a', 'farmer', 'who', 'had', 'a', 'dog', '.']\n",
      "['There was', 'was a', 'a farmer', 'farmer who', 'who had', 'had a', 'a dog', 'dog .']\n"
     ]
    }
   ],
   "source": [
    "def tokenize(trg, N=1): #trg는 문자열\n",
    "    words = trg.split()\n",
    "\n",
    "    l= []\n",
    "    if N==2:\n",
    "        for i in range(len(words)-1): \n",
    "            l.append( words[i]+\" \"+words[i+1] )\n",
    "        return l\n",
    "    \n",
    "    return words\n",
    "    \n",
    "    \n",
    "    \n",
    "def main():\n",
    "    a=\"There was a farmer who had a dog .\"\n",
    "    print(tokenize(a))\n",
    "    print(tokenize(a, 2))\n",
    "main()"
   ]
  },
  {
   "cell_type": "markdown",
   "metadata": {},
   "source": [
    "## 과제4)"
   ]
  },
  {
   "cell_type": "code",
   "execution_count": 120,
   "metadata": {},
   "outputs": [
    {
     "name": "stdout",
     "output_type": "stream",
     "text": [
      "평균:  [0.5, 0.5]\n",
      "분산:  [0.16666666666666666, 0.16666666666666666]\n"
     ]
    }
   ],
   "source": [
    "import numpy\n",
    "\n",
    "def mean_and_var(*val):\n",
    "    \n",
    "#     print(val[0][0])\n",
    "#     print(val) #요소 확인\n",
    "    arr_X = [val[0][0], val[1][0], val[2][0]]\n",
    "    arr_Y = [val[0][1], val[1][1], val[2][1]]\n",
    "    \n",
    "    l1 = [numpy.mean(arr_X), numpy.mean(arr_Y)]\n",
    "    l2 = [numpy.var(arr_X), numpy.var(arr_Y)]\n",
    "     \n",
    "    return l1, l2\n",
    "\n",
    "\n",
    "\n",
    "def main():\n",
    "    v1=(0, 1)\n",
    "    v2=(0.5, 0.5)\n",
    "    v3=(1, 0)\n",
    "    m, var = mean_and_var(v1, v2, v3)\n",
    "    print('평균: ', m)\n",
    "    print('분산: ', var)\n",
    "main()"
   ]
  },
  {
   "cell_type": "code",
   "execution_count": null,
   "metadata": {},
   "outputs": [],
   "source": []
  },
  {
   "cell_type": "code",
   "execution_count": null,
   "metadata": {},
   "outputs": [],
   "source": []
  }
 ],
 "metadata": {
  "kernelspec": {
   "display_name": "Python 3",
   "language": "python",
   "name": "python3"
  },
  "language_info": {
   "codemirror_mode": {
    "name": "ipython",
    "version": 3
   },
   "file_extension": ".py",
   "mimetype": "text/x-python",
   "name": "python",
   "nbconvert_exporter": "python",
   "pygments_lexer": "ipython3",
   "version": "3.7.6"
  }
 },
 "nbformat": 4,
 "nbformat_minor": 4
}
