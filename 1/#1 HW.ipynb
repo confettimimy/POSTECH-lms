{
 "cells": [
  {
   "cell_type": "code",
   "execution_count": 3,
   "metadata": {},
   "outputs": [
    {
     "name": "stdout",
     "output_type": "stream",
     "text": [
      "화씨 온도:100\n",
      "섭씨온도: 37.77777777777778\n"
     ]
    }
   ],
   "source": [
    "f = float(input(\"화씨 온도:\"))\n",
    "\n",
    "c = (f-32)*(5/9)\n",
    "\n",
    "print(\"섭씨온도:\",c)"
   ]
  },
  {
   "cell_type": "code",
   "execution_count": 4,
   "metadata": {},
   "outputs": [
    {
     "name": "stdout",
     "output_type": "stream",
     "text": [
      "투입한 돈:5000\n",
      "물건 값:2700\n",
      "거스름 돈: 2300\n",
      "500원짜리: 4 개\n",
      "100원짜리: 3 개\n"
     ]
    }
   ],
   "source": [
    "money = int(input(\"투입한 돈:\"))\n",
    "price = int(input(\"물건 값:\"))\n",
    "\n",
    "b= money-price\n",
    "num_500 = b//500\n",
    "num_100 = ( b-(num_500*500) )//100\n",
    "\n",
    "print(\"거스름 돈:\", b)\n",
    "print(\"500원짜리:\", num_500,\"개\")\n",
    "print(\"100원짜리:\", num_100,\"개\")"
   ]
  },
  {
   "cell_type": "code",
   "execution_count": 5,
   "metadata": {},
   "outputs": [
    {
     "name": "stdout",
     "output_type": "stream",
     "text": [
      "반지름을 입력하세요:5\n",
      "원 둘레:31.42\n",
      "원 넓이:78.54\n"
     ]
    }
   ],
   "source": [
    "r = float(input(\"반지름을 입력하세요:\"))\n",
    "\n",
    "p = 3.141592\n",
    "\n",
    "answer1 = 2*r*p\n",
    "answer2 = r*r*p\n",
    "\n",
    "print(\"원 둘레:%.2f\"%answer1)\n",
    "print(\"원 넓이:%.2f\"%answer2)"
   ]
  },
  {
   "cell_type": "code",
   "execution_count": null,
   "metadata": {},
   "outputs": [],
   "source": []
  }
 ],
 "metadata": {
  "kernelspec": {
   "display_name": "Python 3",
   "language": "python",
   "name": "python3"
  },
  "language_info": {
   "codemirror_mode": {
    "name": "ipython",
    "version": 3
   },
   "file_extension": ".py",
   "mimetype": "text/x-python",
   "name": "python",
   "nbconvert_exporter": "python",
   "pygments_lexer": "ipython3",
   "version": "3.7.6"
  }
 },
 "nbformat": 4,
 "nbformat_minor": 4
}
